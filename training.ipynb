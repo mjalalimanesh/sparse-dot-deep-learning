{
  "nbformat": 4,
  "nbformat_minor": 0,
  "metadata": {
    "accelerator": "GPU",
    "colab": {
      "name": "training.ipynb",
      "provenance": [],
      "collapsed_sections": [
        "pxwHKXro3WKI",
        "vXBmhwwN3ObT",
        "bFqCSSVeFTEL",
        "aHz27yIeFOWI",
        "mTFFJQCt6ZpD",
        "2FSYXG3t2lBM",
        "aMuhhosDZ4bB",
        "12CssXIbZp01",
        "y-BIlY48CGMZ",
        "PCJaSb_R8laj",
        "aJIdtuvC8w0n",
        "RY3t6D8USPvv"
      ],
      "toc_visible": true,
      "include_colab_link": true
    },
    "kernelspec": {
      "display_name": "Python 3",
      "name": "python3"
    }
  },
  "cells": [
    {
      "cell_type": "markdown",
      "metadata": {
        "id": "view-in-github",
        "colab_type": "text"
      },
      "source": [
        "<a href=\"https://colab.research.google.com/github/mjalalimanesh/sparse-dot-deep-learning/blob/master/training.ipynb\" target=\"_parent\"><img src=\"https://colab.research.google.com/assets/colab-badge.svg\" alt=\"Open In Colab\"/></a>"
      ]
    },
    {
      "cell_type": "markdown",
      "metadata": {
        "id": "pxwHKXro3WKI"
      },
      "source": [
        "\n",
        "\n",
        "#### Add Google Drive and change path  "
      ]
    },
    {
      "cell_type": "code",
      "metadata": {
        "id": "Z6yq7gLWAyQP",
        "colab": {
          "base_uri": "https://localhost:8080/"
        },
        "outputId": "9105371e-0621-42d3-e251-2dd742605007"
      },
      "source": [
        "# Run this cell to mount your Google Drive.\n",
        "from google.colab import drive\n",
        "drive.mount('/content/drive', force_remount=True)\n"
      ],
      "execution_count": 1,
      "outputs": [
        {
          "output_type": "stream",
          "text": [
            "Mounted at /content/drive\n"
          ],
          "name": "stdout"
        }
      ]
    },
    {
      "cell_type": "code",
      "metadata": {
        "id": "Iqzr3FlwG0SU",
        "colab": {
          "base_uri": "https://localhost:8080/"
        },
        "outputId": "545928a9-3f15-44c6-97e0-9deb6a76546c"
      },
      "source": [
        "!ls \"/content/drive/My Drive/DL_imaging/ANN_Colab_2\"\n",
        "import os\n",
        "os.chdir(\"/content/drive/My Drive/DL_imaging/ANN_Colab_2\")"
      ],
      "execution_count": 2,
      "outputs": [
        {
          "output_type": "stream",
          "text": [
            "data2.jpg\t\t    new_pydata\n",
            "data3.jpg\t\t    oldies\n",
            "data.jpg\t\t    __pycache__\n",
            "gdata\t\t\t    read_data_3.py\n",
            "homo.txt\t\t    read_experiment_data.py\n",
            "modelbeta3.h5\t\t    read_preprocess_data.py\n",
            "network_architectures.py    ResNet_2.py\n",
            "network_outputs_double.mat  signal.png\n",
            "network_outputs.mat\t    special_simulation_measurements\n",
            "new_generalization\t    training.ipynb\n"
          ],
          "name": "stdout"
        }
      ]
    },
    {
      "cell_type": "markdown",
      "metadata": {
        "id": "vXBmhwwN3ObT"
      },
      "source": [
        "### Import required Libraries"
      ]
    },
    {
      "cell_type": "code",
      "metadata": {
        "id": "sJIa4Jq_1laK",
        "colab": {
          "base_uri": "https://localhost:8080/"
        },
        "outputId": "1d57bf4a-f1b9-4756-f28a-ed73286b9493"
      },
      "source": [
        "import tensorflow as tf\n",
        "print('TF Version : ', tf.__version__)\n",
        "from matplotlib import pyplot as plt\n",
        "import numpy as np\n",
        "import pandas as pd\t\n",
        "from sklearn import preprocessing"
      ],
      "execution_count": 3,
      "outputs": [
        {
          "output_type": "stream",
          "text": [
            "TF Version :  2.3.0\n"
          ],
          "name": "stdout"
        }
      ]
    },
    {
      "cell_type": "markdown",
      "metadata": {
        "id": "0cckpMR81-5p"
      },
      "source": [
        "### Read Training, Validation and Test Data"
      ]
    },
    {
      "cell_type": "code",
      "metadata": {
        "id": "6Rs685BCDLG7"
      },
      "source": [
        "from read_preprocess_data import read_preprocess_data\n",
        "\n",
        "x_train, y_train, x_val, y_val, x_test, y_test, stand = read_preprocess_data(subtract_homogen=True,  \\\n",
        "                                                                             is_standard_scalar_input=True\n",
        "                                                                             , noise_level=0.0)"
      ],
      "execution_count": 7,
      "outputs": []
    },
    {
      "cell_type": "code",
      "metadata": {
        "id": "i1cdvHCX6mB_",
        "colab": {
          "base_uri": "https://localhost:8080/"
        },
        "outputId": "21a0a03e-8133-4721-e344-b9cbf7f86394"
      },
      "source": [
        "print('input training data shape : ', x_train.shape)\n",
        "print('output training data shape', y_train.shape)\n",
        "print('-'*40)\n",
        "print('input val data shape : ', x_val.shape)\n",
        "print('output val data shape : ', y_val.shape)\n",
        "print('-'*40)\n",
        "print('input test data shape : ', x_test.shape)\n",
        "print('output test data shape : ', y_test.shape)\n"
      ],
      "execution_count": 8,
      "outputs": [
        {
          "output_type": "stream",
          "text": [
            "input training data shape :  (28900, 29)\n",
            "output training data shape (28900, 4096)\n",
            "----------------------------------------\n",
            "input val data shape :  (1000, 29)\n",
            "output val data shape :  (1000, 4096)\n",
            "----------------------------------------\n",
            "input test data shape :  (100, 29)\n",
            "output test data shape :  (100, 4096)\n"
          ],
          "name": "stdout"
        }
      ]
    },
    {
      "cell_type": "markdown",
      "metadata": {
        "id": "L0gpiBa450xc"
      },
      "source": [
        "Plot several samples"
      ]
    },
    {
      "cell_type": "code",
      "metadata": {
        "id": "mYmzVI3YrKX4",
        "colab": {
          "base_uri": "https://localhost:8080/",
          "height": 533
        },
        "outputId": "5f0f5c7d-76ad-4a59-aae3-fbaf0ac060f0"
      },
      "source": [
        "grd = (64,64)\n",
        "point = np.arange(0,36).reshape((1,36))\n",
        "for i in range(1,2):\n",
        "    plt.figure(figsize=(10,4))\n",
        "    x = x_test[i:i+1,:]\n",
        "    plt.plot(x.ravel(), '-o', linewidth=5.5, markersize=12)\n",
        "    #plt.axis('off')\n",
        "    y_test_ = np.zeros((64*64))\n",
        "    y_test_ = y_test[i:i+1,:].ravel() \n",
        "    y = y_test_.reshape(grd, order='F')\n",
        "    plt.figure()\n",
        "    plt.imshow(y)\n",
        "    plt.xticks(fontsize=14)\n",
        "    plt.yticks(fontsize=14)\n",
        "    #axis.off()\n",
        "    plt.colorbar()\n",
        "    plt.title(str(i) )\n",
        "\n",
        "    "
      ],
      "execution_count": 9,
      "outputs": [
        {
          "output_type": "display_data",
          "data": {
            "image/png": "[encoded data removed]",
            "text/plain": [
              "<Figure size 720x288 with 1 Axes>"
            ]
          },
          "metadata": {
            "tags": [],
            "needs_background": "light"
          }
        },
        {
          "output_type": "display_data",
          "data": {
            "image/png": "[encoded data removed]",
            "text/plain": [
              "<Figure size 432x288 with 2 Axes>"
            ]
          },
          "metadata": {
            "tags": [],
            "needs_background": "light"
          }
        }
      ]
    },
    {
      "cell_type": "code",
      "metadata": {
        "id": "SGppFspKtVNL",
        "colab": {
          "base_uri": "https://localhost:8080/",
          "height": 362
        },
        "outputId": "af76934f-c1ec-4f60-f3ec-e13bbab214ef"
      },
      "source": [
        "fig, ax = plt.subplots(1, 1, figsize=(6, 5), sharex=True)\n",
        "x = x_test[63:64,:]\n",
        "\n",
        "ax.plot(x.ravel(), '-ko', linewidth=3.5, markersize=9)\n",
        "plt.xticks(fontsize=18)\n",
        "plt.yticks(fontsize=18)\n",
        "#plt.savefig('signal.png', dpi=800)"
      ],
      "execution_count": 12,
      "outputs": [
        {
          "output_type": "execute_result",
          "data": {
            "text/plain": [
              "(array([-1.5, -1. , -0.5,  0. ,  0.5,  1. ,  1.5,  2. ]),\n",
              " <a list of 8 Text major ticklabel objects>)"
            ]
          },
          "metadata": {
            "tags": []
          },
          "execution_count": 12
        },
        {
          "output_type": "display_data",
          "data": {
            "image/png": "[encoded data removed]",
            "text/plain": [
              "<Figure size 432x360 with 1 Axes>"
            ]
          },
          "metadata": {
            "tags": [],
            "needs_background": "light"
          }
        }
      ]
    },
    {
      "cell_type": "markdown",
      "metadata": {
        "id": "4Gp3a-lhOB_f"
      },
      "source": [
        "Read Simulation homogenous data and do same preprocessing as other data"
      ]
    },
    {
      "cell_type": "code",
      "metadata": {
        "id": "M0Wu5XJWUJgu"
      },
      "source": [
        "from read_preprocess_data import one_fit\n",
        "\n",
        "Homo_input = (pd.read_csv(\"homo.txt\", sep=',', header = None).values)\n",
        "Homo_input = (Homo_input.T[:,:] / np.max(Homo_input[:,:]))\n",
        "Homo_input = Homo_input * 0.9111 \n",
        "homo = np.log(one_fit(Homo_input))\n"
      ],
      "execution_count": 13,
      "outputs": []
    },
    {
      "cell_type": "markdown",
      "metadata": {
        "id": "l8AX1Wlt2LPr"
      },
      "source": [
        "### Read And Compile Model\n",
        "Set Neural Network architecture and Optimization details"
      ]
    },
    {
      "cell_type": "markdown",
      "metadata": {
        "id": "fCeauzkn_poP"
      },
      "source": [
        "There are several models available in network_architectures file."
      ]
    },
    {
      "cell_type": "code",
      "metadata": {
        "id": "MtrLUW0S1smz",
        "colab": {
          "base_uri": "https://localhost:8080/"
        },
        "outputId": "6f83b0d2-bbd2-4b28-c840-ddd889ed1acf"
      },
      "source": [
        "from network_architectures import mlp, conv2d_FC, conv1d_FC, FC_conv2d, resnet, one_d_conv, dense_1dconv\n",
        "#n_neurons = [128,128, 128, 256, 256, 512, 1024]\n",
        "#activations = [\"tanh\",\"relu\", \"relu\", \"relu\", \"relu\", \"relu\", \"tanh\"]\n",
        "#model = mlp(n_hidden_layers=7, n_neurons = n_neurons, activations=activations)\n",
        "#model = tf.keras.models.load_model('oldies/old_models/model2_exp_37.h5')\n",
        "#model = tf.keras.models.load_model('modelbeta.h5', compile=False)\n",
        "#model = FC_conv2d()\n",
        "model = one_d_conv()\n",
        "model.summary()"
      ],
      "execution_count": 14,
      "outputs": [
        {
          "output_type": "stream",
          "text": [
            "Model: \"sequential\"\n",
            "_________________________________________________________________\n",
            "Layer (type)                 Output Shape              Param #   \n",
            "=================================================================\n",
            "reshape (Reshape)            (None, 29, 1)             0         \n",
            "_________________________________________________________________\n",
            "zero_padding1d (ZeroPadding1 (None, 32, 1)             0         \n",
            "_________________________________________________________________\n",
            "conv1d (Conv1D)              (None, 32, 128)           4224      \n",
            "_________________________________________________________________\n",
            "batch_normalization (BatchNo (None, 32, 128)           512       \n",
            "_________________________________________________________________\n",
            "activation (Activation)      (None, 32, 128)           0         \n",
            "_________________________________________________________________\n",
            "conv1d_1 (Conv1D)            (None, 32, 128)           82048     \n",
            "_________________________________________________________________\n",
            "batch_normalization_1 (Batch (None, 32, 128)           512       \n",
            "_________________________________________________________________\n",
            "activation_1 (Activation)    (None, 32, 128)           0         \n",
            "_________________________________________________________________\n",
            "conv1d_2 (Conv1D)            (None, 32, 128)           82048     \n",
            "_________________________________________________________________\n",
            "batch_normalization_2 (Batch (None, 32, 128)           512       \n",
            "_________________________________________________________________\n",
            "activation_2 (Activation)    (None, 32, 128)           0         \n",
            "_________________________________________________________________\n",
            "conv1d_3 (Conv1D)            (None, 32, 128)           82048     \n",
            "_________________________________________________________________\n",
            "batch_normalization_3 (Batch (None, 32, 128)           512       \n",
            "_________________________________________________________________\n",
            "activation_3 (Activation)    (None, 32, 128)           0         \n",
            "_________________________________________________________________\n",
            "reshape_1 (Reshape)          (None, 64, 64, 1)         0         \n",
            "_________________________________________________________________\n",
            "conv2d (Conv2D)              (None, 64, 64, 32)        160       \n",
            "_________________________________________________________________\n",
            "batch_normalization_4 (Batch (None, 64, 64, 32)        128       \n",
            "_________________________________________________________________\n",
            "activation_4 (Activation)    (None, 64, 64, 32)        0         \n",
            "_________________________________________________________________\n",
            "conv2d_1 (Conv2D)            (None, 64, 64, 32)        4128      \n",
            "_________________________________________________________________\n",
            "batch_normalization_5 (Batch (None, 64, 64, 32)        128       \n",
            "_________________________________________________________________\n",
            "activation_5 (Activation)    (None, 64, 64, 32)        0         \n",
            "_________________________________________________________________\n",
            "conv2d_2 (Conv2D)            (None, 64, 64, 32)        4128      \n",
            "_________________________________________________________________\n",
            "batch_normalization_6 (Batch (None, 64, 64, 32)        128       \n",
            "_________________________________________________________________\n",
            "activation_6 (Activation)    (None, 64, 64, 32)        0         \n",
            "_________________________________________________________________\n",
            "conv2d_3 (Conv2D)            (None, 64, 64, 32)        4128      \n",
            "_________________________________________________________________\n",
            "batch_normalization_7 (Batch (None, 64, 64, 32)        128       \n",
            "_________________________________________________________________\n",
            "activation_7 (Activation)    (None, 64, 64, 32)        0         \n",
            "_________________________________________________________________\n",
            "conv2d_4 (Conv2D)            (None, 64, 64, 1)         2049      \n",
            "_________________________________________________________________\n",
            "reshape_2 (Reshape)          (None, 4096)              0         \n",
            "=================================================================\n",
            "Total params: 267,521\n",
            "Trainable params: 266,241\n",
            "Non-trainable params: 1,280\n",
            "_________________________________________________________________\n"
          ],
          "name": "stdout"
        }
      ]
    },
    {
      "cell_type": "markdown",
      "metadata": {
        "id": "y2NrAeiW6jGZ"
      },
      "source": [
        "#### Compile model\n",
        "model is tested with several optimizers and loss functions"
      ]
    },
    {
      "cell_type": "code",
      "metadata": {
        "id": "IGr5EDdCEPTH"
      },
      "source": [
        "# define optimizer\n",
        "#my_optimizer = tf.keras.optimizers.SGD(lr=0.001, momentum=0.9)\n",
        "#from network_architectures import costum_objective\n",
        "#my_optimizer = tf.keras.optimizers.Adagrad(lr=0.01, epsilon=None, decay=0.0)\n",
        "#my_optimizer = tf.keras.optimizers.RMSprop(lr=10, rho=0.9, epsilon=None, decay=0.0)\n",
        "my_optimizer = tf.keras.optimizers.Adam(lr=0.001)\n",
        "# define loss function\n",
        "def custom_objective(y_true, y_pred):\n",
        "\t\"\"\"\n",
        "\tcostum objective function\n",
        "\tbalanced sum of mse and mae\n",
        "\t\"\"\"\n",
        "\tmse_loss= tf.keras.backend.mean(tf.keras.backend.square(y_pred - y_true), axis=-1)\n",
        "\tmae_loss = tf.keras.backend.mean(tf.keras.backend.abs(y_pred - y_true), axis=-1)\n",
        "\tloss = mse_loss +  1.2 * mae_loss \n",
        "\treturn loss\n",
        "\n",
        "#msle = tf.keras.losses.MeanSquaredLogarithmicError()\n",
        "#huber = tf.keras.losses.Huber()\n",
        "#l = tf.keras.losses.LogCosh()\n",
        "model.compile(optimizer= my_optimizer , loss=custom_objective, metrics=['mean_absolute_error', 'mean_squared_error'])"
      ],
      "execution_count": null,
      "outputs": []
    },
    {
      "cell_type": "markdown",
      "metadata": {
        "id": "ctoVh9Ct2YEn"
      },
      "source": [
        "### Fit Model"
      ]
    },
    {
      "cell_type": "code",
      "metadata": {
        "id": "TY1egyk8acnT"
      },
      "source": [
        "# create a learning rate scheduler callback\n",
        "# 20-27-35-40\n",
        "# 12 18 25 35\n",
        "# sim 35 - 55 - 70 - 85\n",
        "def scheduler(epoch):\n",
        "    if epoch <35:\n",
        "        return 0.001\n",
        "    elif epoch < 55:\n",
        "        return 0.0003\n",
        "    elif epoch < 70:\n",
        "        return 0.0001\n",
        "    elif epoch < 85:\n",
        "        return 0.00003\n",
        "    else:\n",
        "        return 0.00001\n",
        "LRS = tf.keras.callbacks.LearningRateScheduler(schedule= scheduler, verbose=0)\n",
        "# EarlyStopping call back to stop training when overfitting\n",
        "ES = tf.keras.callbacks.EarlyStopping(monitor='val_loss', min_delta=1e-9, \\\n",
        "                                      patience=5, verbose=2, mode='min', restore_best_weights=True)\n",
        "\n",
        "# fit the model\n",
        "hist = model.fit( x_train, y_train, batch_size =128, validation_data = ( x_val, y_val) , \\\n",
        "                 epochs =150, verbose=2, callbacks=[LRS, ES], initial_epoch=85)\n"
      ],
      "execution_count": null,
      "outputs": []
    },
    {
      "cell_type": "code",
      "metadata": {
        "id": "vtCigHuFZ5vt"
      },
      "source": [
        "model.save('model2.h5')"
      ],
      "execution_count": null,
      "outputs": []
    }
  ]
}