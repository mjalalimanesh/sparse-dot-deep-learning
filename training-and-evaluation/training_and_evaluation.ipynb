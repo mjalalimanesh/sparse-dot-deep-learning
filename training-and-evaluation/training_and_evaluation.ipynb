{
  "nbformat": 4,
  "nbformat_minor": 0,
  "metadata": {
    "colab": {
      "name": "my_ANN_2.ipynb",
      "provenance": [],
      "collapsed_sections": [
        "pxwHKXro3WKI",
        "vXBmhwwN3ObT",
        "0cckpMR81-5p",
        "bFqCSSVeFTEL",
        "aHz27yIeFOWI",
        "mTFFJQCt6ZpD",
        "l8AX1Wlt2LPr",
        "y2NrAeiW6jGZ",
        "ctoVh9Ct2YEn",
        "2FSYXG3t2lBM",
        "17Xf2MOX5XYC",
        "cAmi_w4T9KG4",
        "aMuhhosDZ4bB",
        "PCJaSb_R8laj",
        "aJIdtuvC8w0n",
        "v4BW_T-iEmD9"
      ]
    },
    "kernelspec": {
      "name": "python3",
      "display_name": "Python 3"
    }
  },
  "cells": [
    {
      "cell_type": "markdown",
      "metadata": {
        "id": "pxwHKXro3WKI",
        "colab_type": "text"
      },
      "source": [
        "\n",
        "\n",
        "#### Add Google Drive and change path  "
      ]
    },
    {
      "cell_type": "code",
      "metadata": {
        "id": "Z6yq7gLWAyQP",
        "colab_type": "code",
        "colab": {
          "base_uri": "https://localhost:8080/",
          "height": 34
        },
        "outputId": "7cce9d0d-1472-43a3-8206-71488f256d70"
      },
      "source": [
        "# Run this cell to mount your Google Drive.\n",
        "from google.colab import drive\n",
        "drive.mount('/content/drive', force_remount=True)\n"
      ],
      "execution_count": 1,
      "outputs": [
        {
          "output_type": "stream",
          "text": [
            "Mounted at /content/drive\n"
          ],
          "name": "stdout"
        }
      ]
    },
    {
      "cell_type": "code",
      "metadata": {
        "id": "Iqzr3FlwG0SU",
        "colab_type": "code",
        "colab": {}
      },
      "source": [
        "!ls \"/content/drive/My Drive/DL_imaging/ANN_Colab_2\"\n",
        "import os\n",
        "os.chdir(\"/content/drive/My Drive/DL_imaging/ANN_Colab_2\")"
      ],
      "execution_count": null,
      "outputs": []
    },
    {
      "cell_type": "markdown",
      "metadata": {
        "id": "vXBmhwwN3ObT",
        "colab_type": "text"
      },
      "source": [
        "### Import required Libraries"
      ]
    },
    {
      "cell_type": "code",
      "metadata": {
        "id": "sJIa4Jq_1laK",
        "colab_type": "code",
        "colab": {
          "base_uri": "https://localhost:8080/",
          "height": 34
        },
        "outputId": "8fd110c4-ea8d-4ed4-854c-72077fc76407"
      },
      "source": [
        "import tensorflow as tf\n",
        "print('TF Version : ', tf.__version__)\n",
        "from matplotlib import pyplot as plt\n",
        "import numpy as np\n",
        "import pandas as pd\t\n",
        "from sklearn import preprocessing"
      ],
      "execution_count": 3,
      "outputs": [
        {
          "output_type": "stream",
          "text": [
            "TF Version :  2.2.0\n"
          ],
          "name": "stdout"
        }
      ]
    },
    {
      "cell_type": "markdown",
      "metadata": {
        "id": "0cckpMR81-5p",
        "colab_type": "text"
      },
      "source": [
        "### Read Training, Validation and Test Data"
      ]
    },
    {
      "cell_type": "code",
      "metadata": {
        "id": "6Rs685BCDLG7",
        "colab_type": "code",
        "colab": {}
      },
      "source": [
        "from read_preprocess_data import read_preprocess_data\n",
        "\n",
        "x_train, y_train, x_val, y_val, x_test, y_test, stand = read_preprocess_data(subtract_homogen=True,  \\\n",
        "                                                                             is_standard_scalar_input=True , noise_level=0.0)"
      ],
      "execution_count": null,
      "outputs": []
    },
    {
      "cell_type": "code",
      "metadata": {
        "colab_type": "code",
        "id": "i1cdvHCX6mB_",
        "colab": {
          "base_uri": "https://localhost:8080/",
          "height": 153
        },
        "outputId": "fd6f493e-e341-4343-d438-2cace077baa1"
      },
      "source": [
        "print('input training data shape : ', x_train.shape)\n",
        "print('output training data shape', y_train.shape)\n",
        "print('-'*40)\n",
        "print('input val data shape : ', x_val.shape)\n",
        "print('output val data shape : ', y_val.shape)\n",
        "print('-'*40)\n",
        "print('input test data shape : ', x_test.shape)\n",
        "print('output test data shape : ', y_test.shape)\n"
      ],
      "execution_count": null,
      "outputs": [
        {
          "output_type": "stream",
          "text": [
            "input training data shape :  (27000, 29)\n",
            "output training data shape (27000, 4096)\n",
            "----------------------------------------\n",
            "input val data shape :  (2000, 29)\n",
            "output val data shape :  (2000, 4096)\n",
            "----------------------------------------\n",
            "input test data shape :  (1000, 29)\n",
            "output test data shape :  (1000, 4096)\n"
          ],
          "name": "stdout"
        }
      ]
    },
    {
      "cell_type": "markdown",
      "metadata": {
        "id": "L0gpiBa450xc",
        "colab_type": "text"
      },
      "source": [
        "Plot several samples"
      ]
    },
    {
      "cell_type": "code",
      "metadata": {
        "id": "mYmzVI3YrKX4",
        "colab_type": "code",
        "colab": {
          "base_uri": "https://localhost:8080/",
          "height": 529
        },
        "outputId": "b5572541-255e-4693-e238-4652b4285208"
      },
      "source": [
        "grd = (64,64)\n",
        "point = np.arange(0,36).reshape((1,36))\n",
        "for i in range(0,1):\n",
        "    plt.figure(figsize=(10,4))\n",
        "    x = x_test[i:i+1,:]\n",
        "    plt.plot(x.ravel(), '-o', linewidth=5.5, markersize=12)\n",
        "    #plt.axis('off')\n",
        "    y_test_ = np.zeros((64*64))\n",
        "    y_test_ = y_test[i:i+1,:].ravel() \n",
        "    y = y_test_.reshape(grd, order='F')\n",
        "    plt.figure()\n",
        "    plt.imshow(y)\n",
        "    #axis.off()\n",
        "    plt.colorbar()\n",
        "    plt.title(str(i) )\n",
        "\n",
        "    "
      ],
      "execution_count": null,
      "outputs": [
        {
          "output_type": "display_data",
          "data": {
            "image/png": "[encoded data removed]",
            "text/plain": [
              "<Figure size 720x288 with 1 Axes>"
            ]
          },
          "metadata": {
            "tags": [],
            "needs_background": "light"
          }
        },
        {
          "output_type": "display_data",
          "data": {
            "image/png": "[encoded data removed]",
            "text/plain": [
              "<Figure size 432x288 with 2 Axes>"
            ]
          },
          "metadata": {
            "tags": [],
            "needs_background": "light"
          }
        }
      ]
    },
    {
      "cell_type": "markdown",
      "metadata": {
        "id": "4Gp3a-lhOB_f",
        "colab_type": "text"
      },
      "source": [
        "Read Simulation homogenous data and do same preprocessing as other data"
      ]
    },
    {
      "cell_type": "code",
      "metadata": {
        "id": "M0Wu5XJWUJgu",
        "colab_type": "code",
        "colab": {}
      },
      "source": [
        "from read_preprocess_data import one_fit\n",
        "\n",
        "Homo_input = (pd.read_csv(\"homo.txt\", sep=',', header = None).values)\n",
        "Homo_input = (Homo_input.T[:,:] / np.max(Homo_input[:,:]))\n",
        "Homo_input = Homo_input * 0.9111 \n",
        "homo = np.log(one_fit(Homo_input))\n"
      ],
      "execution_count": 5,
      "outputs": []
    },
    {
      "cell_type": "markdown",
      "metadata": {
        "id": "bFqCSSVeFTEL",
        "colab_type": "text"
      },
      "source": [
        "### Read, preprocess and plot experimental data"
      ]
    },
    {
      "cell_type": "markdown",
      "metadata": {
        "id": "aHz27yIeFOWI",
        "colab_type": "text"
      },
      "source": [
        "#### Read Expeimental Data"
      ]
    },
    {
      "cell_type": "code",
      "metadata": {
        "id": "Nh0MNXCt5v4H",
        "colab_type": "code",
        "colab": {}
      },
      "source": [
        "from read_experiment_data import read_experiment_data\n",
        "homo_experiment_3, experiment0 = read_experiment_data(experiment_number=3)"
      ],
      "execution_count": 6,
      "outputs": []
    },
    {
      "cell_type": "markdown",
      "metadata": {
        "id": "mTFFJQCt6ZpD",
        "colab_type": "text"
      },
      "source": [
        "\n",
        "#### Preprocess and plot\n",
        "In this part we do some processing on experimental data to make them ready for \"inference phase\". First data is corrected for background light by subtracting dark_correction from it. Then we do some Operations which we have implemented on trainig data in \"trainig phase\" including  nomalizing data, taking logarithm of data, subtracting homogenoues values and Standardization data. An Example of Experimental Data is shown in below figure\n"
      ]
    },
    {
      "cell_type": "code",
      "metadata": {
        "id": "jKuyJaGG939Q",
        "colab_type": "code",
        "colab": {
          "base_uri": "https://localhost:8080/",
          "height": 282
        },
        "outputId": "3ecf3716-fe10-41be-f8c6-a0e5816a2c75"
      },
      "source": [
        "dark_correction0 = np.array([[1.575, 3.85, 1, 0.85, 0.3, 0.4, 0.475, 0.3, 1.775, 0.775, 2.35, 1.225, 0.95, 0.7 , 0.4,  \\\n",
        "                             0.7, 0.95, 1.225, 2.35, 0.775, 1.775, 0.3, 0.475, 0.4, 0.3, 0.85, 1, 3.85, 1.575]])\n",
        "\n",
        "dark_correction = np.array([[1.575, 3.85, 1, 0.85, 0, 0, 0, 0, 0, 0, 0, 0, 0, 0 , 0,  \\\n",
        "                             0, 0, 0, 0, 0, 0, 0, 0, 0, 0, 0.85, 1, 3.85, 1.575]])\n",
        "\n",
        "experiment0_dark_corrected = experiment0 - dark_correction\n",
        "experimetn0_normalized = experiment0_dark_corrected / experiment0_dark_corrected.max(axis=1, keepdims=True)\n",
        "experiment_log = np.log(experimetn0_normalized)\n",
        "\n",
        "homo_experiment_3 = homo_experiment_3 / homo_experiment_3.max()\n",
        "homo_experiment_3 = np.log(homo_experiment_3)\n",
        "\n",
        "#diff = homo - homo_experiment_3\n",
        "experiment_homo = homo - (experiment_log)\n",
        "\n",
        "experiment = np.zeros((7,29), dtype=np.float)\n",
        "for i in range(7):\n",
        "  experiment[i, :] = stand.transform(experiment_homo[i:i+1, :].astype(float))\n",
        "    \n",
        "#plt.figure()\n",
        "#plt.plot(homo.ravel(),'-o', label='Homogenoues Simulation')\n",
        "#plt.plot((homo_experiment_3).ravel(),'-o', label='Homogenoues Experiment')\n",
        "#plt.legend()\n",
        "plt.figure()\n",
        "plt.plot(experiment[2,:].ravel(),'-o', label='An Example of Experimental Data')\n",
        "#import sklearn \n",
        "#sklearn.metrics.r2_score(homo.ravel() , homo_experiment_3.ravel(), sample_weight=None, multioutput='uniform_average')\n"
      ],
      "execution_count": 7,
      "outputs": [
        {
          "output_type": "execute_result",
          "data": {
            "text/plain": [
              "[<matplotlib.lines.Line2D at 0x7f79562d3ac8>]"
            ]
          },
          "metadata": {
            "tags": []
          },
          "execution_count": 7
        },
        {
          "output_type": "display_data",
          "data": {
            "image/png": "[encoded data removed]",
            "text/plain": [
              "<Figure size 432x288 with 1 Axes>"
            ]
          },
          "metadata": {
            "tags": [],
            "needs_background": "light"
          }
        }
      ]
    },
    {
      "cell_type": "markdown",
      "metadata": {
        "id": "l8AX1Wlt2LPr",
        "colab_type": "text"
      },
      "source": [
        "### Read And Compile Model\n",
        "Set Neural Network architecture and Optimization details"
      ]
    },
    {
      "cell_type": "markdown",
      "metadata": {
        "id": "fCeauzkn_poP",
        "colab_type": "text"
      },
      "source": [
        "There are several models available in network_architectures file."
      ]
    },
    {
      "cell_type": "code",
      "metadata": {
        "id": "MtrLUW0S1smz",
        "colab_type": "code",
        "colab": {
          "base_uri": "https://localhost:8080/",
          "height": 391
        },
        "outputId": "8b2841d3-075e-4d58-e3f4-5324b94196b6"
      },
      "source": [
        "from network_architectures import mlp, conv2d_FC, conv1d_FC, FC_conv2d, resnet\n",
        "n_neurons = [128, 128, 256, 256, 512, 1024]\n",
        "model = mlp(n_hidden_layers=6, n_neurons = n_neurons)\n",
        "#model = tf.keras.models.load_model('model2_exp_37.h5')\n",
        "model.summary()"
      ],
      "execution_count": 27,
      "outputs": [
        {
          "output_type": "stream",
          "text": [
            "Model: \"sequential_2\"\n",
            "_________________________________________________________________\n",
            "Layer (type)                 Output Shape              Param #   \n",
            "=================================================================\n",
            "dense_9 (Dense)              (None, 128)               3840      \n",
            "_________________________________________________________________\n",
            "dense_10 (Dense)             (None, 128)               16512     \n",
            "_________________________________________________________________\n",
            "dense_11 (Dense)             (None, 256)               33024     \n",
            "_________________________________________________________________\n",
            "dense_12 (Dense)             (None, 256)               65792     \n",
            "_________________________________________________________________\n",
            "dense_13 (Dense)             (None, 512)               131584    \n",
            "_________________________________________________________________\n",
            "dense_14 (Dense)             (None, 1024)              525312    \n",
            "_________________________________________________________________\n",
            "dense_15 (Dense)             (None, 4096)              4198400   \n",
            "=================================================================\n",
            "Total params: 4,974,464\n",
            "Trainable params: 4,974,464\n",
            "Non-trainable params: 0\n",
            "_________________________________________________________________\n"
          ],
          "name": "stdout"
        }
      ]
    },
    {
      "cell_type": "markdown",
      "metadata": {
        "id": "y2NrAeiW6jGZ",
        "colab_type": "text"
      },
      "source": [
        "#### Compile model\n",
        "model is tested with several optimizers and loss functions"
      ]
    },
    {
      "cell_type": "code",
      "metadata": {
        "id": "IGr5EDdCEPTH",
        "colab_type": "code",
        "colab": {}
      },
      "source": [
        "# define optimizer\n",
        "#my_optimizer = tf.keras.optimizers.SGD(lr=0.001, momentum=0.9)\n",
        "#from network_architectures import costum_objective\n",
        "#my_optimizer = tf.keras.optimizers.Adagrad(lr=0.01, epsilon=None, decay=0.0)\n",
        "#my_optimizer = tf.keras.optimizers.RMSprop(lr=10, rho=0.9, epsilon=None, decay=0.0)\n",
        "my_optimizer = tf.keras.optimizers.Adam(lr=0.001)\n",
        "# define loss function\n",
        "#msle = tf.keras.losses.MeanSquaredLogarithmicError()\n",
        "#huber = tf.keras.losses.Huber()\n",
        "#l = tf.keras.losses.LogCosh()\n",
        "model.compile(optimizer= my_optimizer , loss='mean_squared_error', metrics=['mean_absolute_error'])"
      ],
      "execution_count": 9,
      "outputs": []
    },
    {
      "cell_type": "markdown",
      "metadata": {
        "id": "ctoVh9Ct2YEn",
        "colab_type": "text"
      },
      "source": [
        "### Fit Model"
      ]
    },
    {
      "cell_type": "code",
      "metadata": {
        "id": "TY1egyk8acnT",
        "colab_type": "code",
        "colab": {}
      },
      "source": [
        "# create a learning rate scheduler callback\n",
        "def scheduler(epoch):\n",
        "    if epoch <15:\n",
        "        return 0.001\n",
        "    elif epoch < 20:\n",
        "        return 0.0007\n",
        "    elif epoch < 25:\n",
        "        return 0.0003\n",
        "    elif epoch < 30:\n",
        "        return 0.00007\n",
        "    else:\n",
        "        return 0.00001\n",
        "LRS = tf.keras.callbacks.LearningRateScheduler(schedule= scheduler, verbose=0)\n",
        "# EarlyStopping call back to stop training when overfitting\n",
        "ES = tf.keras.callbacks.EarlyStopping(monitor='val_loss', min_delta=1e-9, patience=3, verbose=1, mode='min')\n",
        "\n",
        "# fit the model\n",
        "hist = model.fit( x_train, y_train, batch_size =128, validation_data = ( x_val, y_val) , \\\n",
        "                 epochs =5, verbose=2, callbacks=[LRS, ES], initial_epoch=0)\n",
        "# save fitted model\n",
        "model.save('model_name.h5')"
      ],
      "execution_count": null,
      "outputs": []
    },
    {
      "cell_type": "markdown",
      "metadata": {
        "id": "2FSYXG3t2lBM",
        "colab_type": "text"
      },
      "source": [
        "###Evaluate Model"
      ]
    },
    {
      "cell_type": "code",
      "metadata": {
        "id": "C-8X0V3Z2g3U",
        "colab_type": "code",
        "colab": {
          "base_uri": "https://localhost:8080/",
          "height": 51
        },
        "outputId": "239a2090-5f85-4e0b-acc7-c73d407e4f13"
      },
      "source": [
        "net_history = hist.history\n",
        "\n",
        "# Evaluation, add metric on compile\n",
        "scores = model.evaluate(x_test, y_test, verbose=0)\n",
        "print(model.metrics_names)\n",
        "scores"
      ],
      "execution_count": 13,
      "outputs": [
        {
          "output_type": "stream",
          "text": [
            "['loss', 'mean_absolute_error']\n"
          ],
          "name": "stdout"
        },
        {
          "output_type": "execute_result",
          "data": {
            "text/plain": [
              "[0.052743081003427505, 0.051841601729393005]"
            ]
          },
          "metadata": {
            "tags": []
          },
          "execution_count": 13
        }
      ]
    },
    {
      "cell_type": "markdown",
      "metadata": {
        "id": "17Xf2MOX5XYC",
        "colab_type": "text"
      },
      "source": [
        "##### Plot Training and Validation loss versus epoch"
      ]
    },
    {
      "cell_type": "code",
      "metadata": {
        "id": "esW_hE_gBhwH",
        "colab_type": "code",
        "colab": {}
      },
      "source": [
        "import matplotlib.pyplot as plt\n",
        "loss = net_history['loss']\n",
        "val_loss = net_history['val_loss']\n",
        "\n",
        "epochs = range(len(loss))\n",
        "\n",
        "plt.plot(epochs, loss, 'r', label='Training loss')\n",
        "plt.plot(epochs, val_loss, 'b', label='Validation los')\n",
        "plt.title('Training and validation loss')\n",
        "plt.legend(loc=0)\n",
        "plt.figure()\n",
        "\n",
        "\n",
        "plt.show()"
      ],
      "execution_count": null,
      "outputs": []
    },
    {
      "cell_type": "markdown",
      "metadata": {
        "id": "cAmi_w4T9KG4",
        "colab_type": "text"
      },
      "source": [
        "### Visual Tests\n",
        "\n",
        "*   Testing model performance on several simulation and experimantal samples and testing post-processing methods\n",
        "*   Compare Current model with another (saved) model output results\n",
        "\n",
        "\n"
      ]
    },
    {
      "cell_type": "markdown",
      "metadata": {
        "id": "aMuhhosDZ4bB",
        "colab_type": "text"
      },
      "source": [
        "#### Visual test for simulation data and post-processing"
      ]
    },
    {
      "cell_type": "code",
      "metadata": {
        "id": "hwEEID3NZ4CZ",
        "colab_type": "code",
        "colab": {}
      },
      "source": [
        "from matplotlib import pyplot as plt\n",
        "num = 5\n",
        "y_pred = model.predict( experiment[6:7,:], batch_size=1, verbose=0, steps=None, callbacks=None)\n",
        "grd = (64,64)\n",
        "y_pred_ = y_pred.reshape(grd)\n",
        "plt.imshow(y_pred_)\n",
        "plt.figure()\n",
        "plt.imshow(y_test[num:num+1, :].reshape(grd))"
      ],
      "execution_count": null,
      "outputs": []
    },
    {
      "cell_type": "markdown",
      "metadata": {
        "id": "pT7EUQvy402B",
        "colab_type": "text"
      },
      "source": [
        "\n",
        "Filtering output with threshold and median and combination of these two **filters**\n"
      ]
    },
    {
      "cell_type": "code",
      "metadata": {
        "id": "IfL-uHj50idu",
        "colab_type": "code",
        "colab": {}
      },
      "source": [
        "from scipy.signal import medfilt2d\n",
        "# just median\n",
        "y_pred_med = medfilt2d(y_pred_, 3)\n",
        "# just threshold\n",
        "y_pred_threshold = y_pred_.copy()\n",
        "y_pred_threshold[y_pred_threshold > 0.0050 ] = 0.1\n",
        "# threshold 2\n",
        "y_predthreshold_2 = y_pred.copy()\n",
        "y_predthreshold_2[ y_predthreshold_2 < 0.005 ] = 0.01\n",
        "y_pred_threshold_2 = np.zeros((64*64,))\n",
        "y_pred_threshold_2= y_predthreshold_2\n",
        "grd = (64,64)\n",
        "y_pred_threshold_2 = y_pred_threshold_2.reshape(grd, order='F')\n",
        "# threshold + median\n",
        "y_pred_threshold_2_med = medfilt2d(y_pred_threshold_2, 7)\n",
        "# median + threshold\n",
        "y_pred_med_threshold = y_pred_med.copy()\n",
        "y_pred_med_threshold[np.logical_and(y_pred_threshold < 1.3*0.01 ,  y_pred_threshold > 0)] = 0.01\n",
        "\n"
      ],
      "execution_count": 22,
      "outputs": []
    },
    {
      "cell_type": "code",
      "metadata": {
        "id": "WLJFGORQyEDC",
        "colab_type": "code",
        "colab": {}
      },
      "source": [
        "import matplotlib.colors as colors\n",
        "\n",
        "plt.imshow(y_test[num:num+1, :].reshape(grd), norm=colors.PowerNorm(gamma=0.5))\n",
        "plt.title('original')\n",
        "plt.colorbar()\n",
        "plt.show()\n",
        "#y_pred_[y_pred_!=0]= y_pred_[y_pred_!=0]+100\n",
        "plt.imshow((y_pred_), norm=colors.PowerNorm(gamma=0.5))\n",
        "plt.title('Prediction')\n",
        "plt.colorbar()\n",
        "plt.show()\n",
        "\n",
        "plt.imshow(y_pred_med)\n",
        "plt.title('Prediction Median Filtered 7*7')\n",
        "plt.show()\n",
        "\n",
        "plt.imshow(y_pred_threshold)\n",
        "plt.title('Prediction with threshold')\n",
        "plt.show()\n",
        "\n",
        "plt.imshow(y_pred_threshold_2_med)\n",
        "plt.title('Prediction with threshold 2 + median')\n",
        "plt.show()\n",
        "\n",
        "plt.imshow(y_pred_med_threshold)\n",
        "plt.title('Prediction with median + threshold')\n",
        "plt.show()\n"
      ],
      "execution_count": null,
      "outputs": []
    },
    {
      "cell_type": "markdown",
      "metadata": {
        "id": "12CssXIbZp01",
        "colab_type": "text"
      },
      "source": [
        "#### Compare Current model with another (saved) model output results\n",
        "Currently set for comparing MLP and FC+CNN models"
      ]
    },
    {
      "cell_type": "code",
      "metadata": {
        "id": "i9kVBtFHWKOk",
        "colab_type": "code",
        "colab": {}
      },
      "source": [
        "y_pred = model.predict( experiment, batch_size=1, verbose=0, steps=None, callbacks=None)\n",
        "grd = (64,64)\n",
        "i = 0\n",
        "j = 0\n",
        "plt.figure(figsize=(36,36))\n",
        "while i < 7:\n",
        "  plt.subplot(7,2,j+1)\n",
        "  plt.imshow((y_pred[i:i+1,:].reshape(grd)))\n",
        "  plt.title('Prediction')\n",
        "  savenpy_path = 'cnn_pydata/3_' + str(i+1) + '_exp.npy'\n",
        "  np.save(savenpy_path, y_pred[i,:].reshape(grd))\n",
        "  plt.colorbar()\n",
        "  iid = '3_' + str(i+1) + '_exp.npy'\n",
        "  pydata_path = 'pydata/' + iid\n",
        "  y_pred_FC = np.load(pydata_path )\n",
        "  plt.subplot(7,2,j+2)\n",
        "  plt.imshow(y_pred_FC)\n",
        "  plt.title('Prediction')\n",
        "  plt.colorbar()\n",
        "  i = i + 1\n",
        "  j = j + 2\n",
        "\n",
        "plt.tight_layout(h_pad= 0.001)\n",
        "plt.show()\n",
        "plt.savefig('FC_vs_CNN')"
      ],
      "execution_count": null,
      "outputs": []
    },
    {
      "cell_type": "markdown",
      "metadata": {
        "id": "PCJaSb_R8laj",
        "colab_type": "text"
      },
      "source": [
        "###Save model"
      ]
    },
    {
      "cell_type": "code",
      "metadata": {
        "id": "kyuCf4Ex93Ci",
        "colab_type": "code",
        "colab": {}
      },
      "source": [
        "model.save('new_noiseless.h5')"
      ],
      "execution_count": null,
      "outputs": []
    },
    {
      "cell_type": "markdown",
      "metadata": {
        "id": "aJIdtuvC8w0n",
        "colab_type": "text"
      },
      "source": [
        "### Exploring outputs"
      ]
    },
    {
      "cell_type": "markdown",
      "metadata": {
        "id": "NFPsvW-QJWzB",
        "colab_type": "text"
      },
      "source": [
        "plot cross-section of defect in x and y direction"
      ]
    },
    {
      "cell_type": "code",
      "metadata": {
        "id": "TTziGdL6libe",
        "colab_type": "code",
        "colab": {}
      },
      "source": [
        "argmaxx = np.argmax(y_pred_)\n",
        "ind = np.unravel_index(argmaxx, y_pred_.shape)"
      ],
      "execution_count": null,
      "outputs": []
    },
    {
      "cell_type": "code",
      "metadata": {
        "id": "8uOcwyeeXn8r",
        "colab_type": "code",
        "colab": {
          "base_uri": "https://localhost:8080/",
          "height": 282
        },
        "outputId": "3abdb781-251c-4a42-f2f8-e0ce6cbe6517"
      },
      "source": [
        "plt.plot(y_pred_[ind[0],:])"
      ],
      "execution_count": null,
      "outputs": [
        {
          "output_type": "execute_result",
          "data": {
            "text/plain": [
              "[<matplotlib.lines.Line2D at 0x7f7a35684b38>]"
            ]
          },
          "metadata": {
            "tags": []
          },
          "execution_count": 20
        },
        {
          "output_type": "display_data",
          "data": {
            "image/png": "[encoded data removed]",
            "text/plain": [
              "<Figure size 432x288 with 1 Axes>"
            ]
          },
          "metadata": {
            "tags": []
          }
        }
      ]
    },
    {
      "cell_type": "code",
      "metadata": {
        "id": "nL36_qIqTMG9",
        "colab_type": "code",
        "colab": {
          "base_uri": "https://localhost:8080/",
          "height": 238
        },
        "outputId": "7b72d2c7-da6f-49c7-8d2a-89f796484a53"
      },
      "source": [
        "y_pred_[ind[0],:]"
      ],
      "execution_count": null,
      "outputs": [
        {
          "output_type": "execute_result",
          "data": {
            "text/plain": [
              "array([0.        , 0.        , 0.        , 0.        , 0.        ,\n",
              "       0.        , 0.        , 0.        , 0.        , 0.        ,\n",
              "       0.        , 0.        , 0.        , 0.        , 0.        ,\n",
              "       0.        , 0.        , 0.        , 0.        , 0.        ,\n",
              "       0.        , 0.        , 0.        , 0.        , 0.        ,\n",
              "       0.        , 0.24799584, 0.43645203, 0.5300561 , 0.5648202 ,\n",
              "       0.565413  , 0.5911364 , 0.63615507, 0.6931891 , 0.7186719 ,\n",
              "       0.5903997 , 0.25438893, 0.        , 0.        , 0.        ,\n",
              "       0.        , 0.        , 0.        , 0.        , 0.        ,\n",
              "       0.        , 0.        , 0.        , 0.        , 0.        ,\n",
              "       0.        , 0.        , 0.        , 0.        , 0.        ,\n",
              "       0.        , 0.        , 0.        , 0.        , 0.        ,\n",
              "       0.        , 0.        , 0.        , 0.        ], dtype=float32)"
            ]
          },
          "metadata": {
            "tags": []
          },
          "execution_count": 21
        }
      ]
    },
    {
      "cell_type": "code",
      "metadata": {
        "id": "0hgSXxCmYjHV",
        "colab_type": "code",
        "colab": {
          "base_uri": "https://localhost:8080/",
          "height": 282
        },
        "outputId": "ad293aff-82b6-44e4-b29c-9e1967f5d975"
      },
      "source": [
        "plt.plot(y_pred_[:,ind[1]])"
      ],
      "execution_count": null,
      "outputs": [
        {
          "output_type": "execute_result",
          "data": {
            "text/plain": [
              "[<matplotlib.lines.Line2D at 0x7effa9a728d0>]"
            ]
          },
          "metadata": {
            "tags": []
          },
          "execution_count": 32
        },
        {
          "output_type": "display_data",
          "data": {
            "image/png": "[encoded data removed]",
            "text/plain": [
              "<Figure size 432x288 with 1 Axes>"
            ]
          },
          "metadata": {
            "tags": []
          }
        }
      ]
    },
    {
      "cell_type": "markdown",
      "metadata": {
        "id": "v4BW_T-iEmD9",
        "colab_type": "text"
      },
      "source": [
        "### Checking and saving Special Cases"
      ]
    },
    {
      "cell_type": "markdown",
      "metadata": {
        "id": "zdraFIfMFurU",
        "colab_type": "text"
      },
      "source": [
        "including 3 inclusion phantom"
      ]
    },
    {
      "cell_type": "code",
      "metadata": {
        "id": "jzEesWMpkQSR",
        "colab_type": "code",
        "colab": {
          "base_uri": "https://localhost:8080/",
          "height": 68
        },
        "outputId": "1b3f7f95-4126-4df0-eb69-001d77f32a21"
      },
      "source": [
        "import h5py\n",
        "f = h5py.File('network_outputs.mat','r')\n",
        "data1 = f['Y_save'].value\n",
        "net_input = np.array(data1).T # For converting to a NumPy array\n",
        "net_input.shape"
      ],
      "execution_count": null,
      "outputs": [
        {
          "output_type": "stream",
          "text": [
            "/usr/local/lib/python3.6/dist-packages/ipykernel_launcher.py:3: H5pyDeprecationWarning: dataset.value has been deprecated. Use dataset[()] instead.\n",
            "  This is separate from the ipykernel package so we can avoid doing imports until\n"
          ],
          "name": "stderr"
        },
        {
          "output_type": "execute_result",
          "data": {
            "text/plain": [
              "(30000, 29)"
            ]
          },
          "metadata": {
            "tags": []
          },
          "execution_count": 6
        }
      ]
    },
    {
      "cell_type": "code",
      "metadata": {
        "id": "M3__NWS-DW0J",
        "colab_type": "code",
        "colab": {
          "base_uri": "https://localhost:8080/",
          "height": 34
        },
        "outputId": "42ea22df-90ba-4836-ce1b-53af713dead9"
      },
      "source": [
        "import pandas as pd\n",
        "\n",
        "exp3_1 = pd.read_csv(\"3_1.txt\", sep=',', header = None).values\n",
        "exp3_2 = pd.read_csv(\"3_2.txt\", sep=',', header = None).values\n",
        "exp3_3 = pd.read_csv(\"3_3.txt\", sep=',', header = None).values\n",
        "exp3_4 = pd.read_csv(\"3_4.txt\", sep=',', header = None).values\n",
        "exp3_7 = pd.read_csv(\"3_7.txt\", sep=',', header = None).values\n",
        "exp3_1.shape"
      ],
      "execution_count": null,
      "outputs": [
        {
          "output_type": "execute_result",
          "data": {
            "text/plain": [
              "(29, 1)"
            ]
          },
          "metadata": {
            "tags": []
          },
          "execution_count": 25
        }
      ]
    },
    {
      "cell_type": "code",
      "metadata": {
        "id": "0-NHok1hgIMJ",
        "colab_type": "code",
        "colab": {
          "base_uri": "https://localhost:8080/",
          "height": 489
        },
        "outputId": "4df45bbe-59b0-487a-b563-e39c55ae7000"
      },
      "source": [
        "import pandas as pd\n",
        "from read_ import one_fit, add_noise, multiply_noise\n",
        "\n",
        "#Y0 = exp3_4.T\n",
        "#Y0 = add_noise(Y0, chunksize= None)\n",
        "#Y0 = multiply_noise(Y0, chunksize=None)\n",
        "\n",
        "Y0 = pd.read_csv(\"33_inc.txt\", sep=',', header = None).values.T\n",
        "#Y0 = add_noise(Y0, chunksize= None)\n",
        "#Y0 = multiply_noise(Y0, chunksize=None)\n",
        "\n",
        "#Y0 = Y0[::-1]\n",
        "#Y0 = x_test[43:44,:]\n",
        "#Y0 = experiment[2:3, :]\n",
        "Y1 = Y0 / Y0.max()\n",
        "scale = 0.9111\n",
        "Y1 = Y1 * scale\n",
        "Y1 = one_fit(Y1)\n",
        "Y1 = np.log(Y1)\n",
        "Y2 = homo - Y1\n",
        "Y = stand.transform(Y2)\n",
        "y_pred = model.predict( Y , batch_size=1, verbose=0, steps=None, callbacks=None)\n",
        "y_pred_ = y_pred.reshape((64,64))\n",
        "np.save('generalization/3_inc_noiseless_2.npy', y_pred_)\n",
        "plt.figure(figsize=(8,8))\n",
        "plt.imshow(y_pred_)\n",
        "plt.colorbar()\n",
        "Y1.shape"
      ],
      "execution_count": null,
      "outputs": [
        {
          "output_type": "execute_result",
          "data": {
            "text/plain": [
              "(1, 29)"
            ]
          },
          "metadata": {
            "tags": []
          },
          "execution_count": 10
        },
        {
          "output_type": "display_data",
          "data": {
            "image/png": "[encoded data removed]",
            "text/plain": [
              "<Figure size 576x576 with 2 Axes>"
            ]
          },
          "metadata": {
            "tags": [],
            "needs_background": "light"
          }
        }
      ]
    },
    {
      "cell_type": "code",
      "metadata": {
        "id": "7y_sxAMWhNVQ",
        "colab_type": "code",
        "colab": {
          "base_uri": "https://localhost:8080/",
          "height": 282
        },
        "outputId": "19b667e3-6c3a-462f-cdeb-80a3e87e62ea"
      },
      "source": [
        "plt.plot(Y.ravel(), label='2_inc')\n"
      ],
      "execution_count": null,
      "outputs": [
        {
          "output_type": "execute_result",
          "data": {
            "text/plain": [
              "[<matplotlib.lines.Line2D at 0x7f3c624c8dd8>]"
            ]
          },
          "metadata": {
            "tags": []
          },
          "execution_count": 24
        },
        {
          "output_type": "display_data",
          "data": {
            "image/png": "[encoded data removed]",
            "text/plain": [
              "<Figure size 432x288 with 1 Axes>"
            ]
          },
          "metadata": {
            "tags": [],
            "needs_background": "light"
          }
        }
      ]
    }
  ]
}